{
 "cells": [
  {
   "cell_type": "code",
   "execution_count": 2,
   "metadata": {},
   "outputs": [],
   "source": [
    "#Libs\n",
    "from pathlib import Path\n",
    "import pandas as pd\n",
    "import csv"
   ]
  },
  {
   "cell_type": "code",
   "execution_count": 3,
   "metadata": {},
   "outputs": [],
   "source": [
    "Path.cwd\n",
    "csvpath = Path(\"budget_data.csv\")\n",
    "\n",
    "months = []\n",
    "profits = []\n",
    "minVal = 0\n",
    "maxVal = 0\n",
    "\n",
    "with open(csvpath, \"r\") as csvfile:\n",
    "    csvreader = csv.reader(csvfile)\n",
    "    csv_header = next(csvreader)\n",
    "    \n",
    "    for data in csvreader:\n",
    "        months.append(data[0])\n",
    "        profits.append(int(data[1]))"
   ]
  },
  {
   "cell_type": "code",
   "execution_count": 6,
   "metadata": {},
   "outputs": [
    {
     "name": "stdout",
     "output_type": "stream",
     "text": [
      "86\n",
      "38382578.0\n",
      "-2315.15\n",
      "1926159.0\n",
      "-2196167.0\n"
     ]
    }
   ],
   "source": [
    "# The total number of months included in the dataset.\n",
    "total_months = len(months)\n",
    "print(total_months)\n",
    "\n",
    "# The net total amount of Profit/Losses over the entire period.\n",
    "total_profits = 0\n",
    "for i in range (0,86):\n",
    "    total_profits = total_profits + float(profits[i])\n",
    "print(total_profits)\n",
    "\n",
    "# The average of the changes in Profit/Losses over the entire period.\n",
    "avg_change = 0\n",
    "for i in range (1,86):\n",
    "    avg_change = round(avg_change + (float(profits[i]) - float(profits[i-1]))*1/85,2)\n",
    "print(avg_change)\n",
    "\n",
    "# The greatest increase in profits (date and amount) over the entire period.\n",
    "change_list = []\n",
    "for i in range (1,86):\n",
    "    change_list.append(float(profits[i]) - float(profits[i-1]))\n",
    "print(max(change_list))\n",
    "\n",
    "# The greatest decrese in losses (date and amount) over the entire period.\n",
    "print(min(change_list))\n"
   ]
  },
  {
   "cell_type": "markdown",
   "metadata": {},
   "source": [
    "# "
   ]
  }
 ],
 "metadata": {
  "kernelspec": {
   "display_name": "Python 3",
   "language": "python",
   "name": "python3"
  },
  "language_info": {
   "codemirror_mode": {
    "name": "ipython",
    "version": 3
   },
   "file_extension": ".py",
   "mimetype": "text/x-python",
   "name": "python",
   "nbconvert_exporter": "python",
   "pygments_lexer": "ipython3",
   "version": "3.7.7"
  }
 },
 "nbformat": 4,
 "nbformat_minor": 4
}
